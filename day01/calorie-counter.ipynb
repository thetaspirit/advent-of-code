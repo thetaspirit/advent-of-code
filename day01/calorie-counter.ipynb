{
 "cells": [
  {
   "cell_type": "code",
   "execution_count": 1,
   "metadata": {},
   "outputs": [],
   "source": [
    "f = open(\"input.txt\", \"r\")\n",
    "elves = []\n",
    "sum = 0\n",
    "for line in f:\n",
    "    # print(line)\n",
    "    if line == \"\\n\":\n",
    "        elves.append(sum)\n",
    "        # print(elves)\n",
    "        sum = 0\n",
    "    else:\n",
    "        sum += int(line)\n",
    "    # print()"
   ]
  },
  {
   "cell_type": "code",
   "execution_count": 3,
   "metadata": {},
   "outputs": [
    {
     "name": "stdout",
     "output_type": "stream",
     "text": [
      "68787\n"
     ]
    }
   ],
   "source": [
    "max = 0\n",
    "for elf in elves:\n",
    "    if max < elf:\n",
    "        max = elf\n",
    "\n",
    "print(max)\n"
   ]
  },
  {
   "cell_type": "code",
   "execution_count": 5,
   "metadata": {},
   "outputs": [
    {
     "name": "stdout",
     "output_type": "stream",
     "text": [
      "198041\n"
     ]
    }
   ],
   "source": [
    "elves.sort()\n",
    "print(elves[-1] + elves[-2] + elves[-3])\n"
   ]
  }
 ],
 "metadata": {
  "kernelspec": {
   "display_name": "Python 3.10.6 64-bit",
   "language": "python",
   "name": "python3"
  },
  "language_info": {
   "codemirror_mode": {
    "name": "ipython",
    "version": 3
   },
   "file_extension": ".py",
   "mimetype": "text/x-python",
   "name": "python",
   "nbconvert_exporter": "python",
   "pygments_lexer": "ipython3",
   "version": "3.10.6"
  },
  "orig_nbformat": 4,
  "vscode": {
   "interpreter": {
    "hash": "916dbcbb3f70747c44a77c7bcd40155683ae19c65e1c03b4aa3499c5328201f1"
   }
  }
 },
 "nbformat": 4,
 "nbformat_minor": 2
}
