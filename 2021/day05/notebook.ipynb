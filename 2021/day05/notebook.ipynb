{
 "cells": [
  {
   "cell_type": "code",
   "execution_count": 31,
   "metadata": {},
   "outputs": [],
   "source": [
    "f = open(\"example.txt\", \"r\")\n",
    "lines = []\n",
    "for line in f:\n",
    "    line = line.rstrip()\n",
    "    words = line.split()\n",
    "\n",
    "    start = [int(coord) for coord in words[0].split(\",\")]\n",
    "    end = [int(coord) for coord in words[2].split(\",\")]\n",
    "\n",
    "    lines.append([start, end])"
   ]
  },
  {
   "cell_type": "code",
   "execution_count": 32,
   "metadata": {},
   "outputs": [],
   "source": [
    "xMax = 0\n",
    "yMax = 0\n",
    "for line in lines:\n",
    "    for point in line:\n",
    "        if point[0] > xMax: xMax = point[0]\n",
    "        if point[1] > yMax: yMax = point[1]\n",
    "\n",
    "diagram = [\n",
    "    [None] * (xMax+1)\n",
    "] * (yMax+1)"
   ]
  },
  {
   "cell_type": "code",
   "execution_count": null,
   "metadata": {},
   "outputs": [],
   "source": [
    "for line in lines:\n",
    "    start = line[0]\n",
    "    end = line[1]\n",
    "    # checking that it's a horizontal or vertical line\n",
    "    if start[0] == end[0] or start[1] == end[1]:\n",
    "        # drawing horizontally\n",
    "        x = start[0]\n",
    "        while x\n"
   ]
  },
  {
   "cell_type": "code",
   "execution_count": 39,
   "metadata": {},
   "outputs": [
    {
     "name": "stdout",
     "output_type": "stream",
     "text": [
      "range(4, 17)\n"
     ]
    }
   ],
   "source": [
    "print(range(4,17,1))"
   ]
  },
  {
   "cell_type": "code",
   "execution_count": 33,
   "metadata": {},
   "outputs": [],
   "source": [
    "diffs = [] # the order of diffs should match up with the order of lines.  each element in diffs corresponds to a line in lines\n",
    "for line in lines:\n",
    "    dx = line[1][0] - line[0][0]\n",
    "    dy = line[1][1] - line[0][1]\n",
    "    diffs.append([dx, dy])"
   ]
  }
 ],
 "metadata": {
  "kernelspec": {
   "display_name": "Python 3.11.0 64-bit",
   "language": "python",
   "name": "python3"
  },
  "language_info": {
   "codemirror_mode": {
    "name": "ipython",
    "version": 3
   },
   "file_extension": ".py",
   "mimetype": "text/x-python",
   "name": "python",
   "nbconvert_exporter": "python",
   "pygments_lexer": "ipython3",
   "version": "3.11.0"
  },
  "orig_nbformat": 4,
  "vscode": {
   "interpreter": {
    "hash": "ee04cbac977d2b535c46fa441ffe8eebb3cc43140ac03ed42ee34b440816c0cf"
   }
  }
 },
 "nbformat": 4,
 "nbformat_minor": 2
}
