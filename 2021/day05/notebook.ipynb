{
 "cells": [
  {
   "cell_type": "code",
   "execution_count": 2,
   "metadata": {},
   "outputs": [],
   "source": [
    "f = open(\"example.txt\", \"r\")\n",
    "lines = []\n",
    "for line in f:\n",
    "    line = line.rstrip()\n",
    "    words = line.split()\n",
    "\n",
    "    start = [int(coord) for coord in words[0].split(\",\")]\n",
    "    end = [int(coord) for coord in words[2].split(\",\")]\n",
    "\n",
    "    lines.append([start, end])"
   ]
  },
  {
   "cell_type": "code",
   "execution_count": 3,
   "metadata": {},
   "outputs": [],
   "source": [
    "xMax = 0\n",
    "yMax = 0\n",
    "for line in lines:\n",
    "    for point in line:\n",
    "        if point[0] > xMax: xMax = point[0]\n",
    "        if point[1] > yMax: yMax = point[1]\n",
    "\n",
    "diagram = [\n",
    "    [0] * (xMax+1)\n",
    "] * (yMax+1)"
   ]
  },
  {
   "cell_type": "code",
   "execution_count": 5,
   "metadata": {},
   "outputs": [],
   "source": [
    "# drawing horizontal and vertical lines on the diagram\n",
    "\n",
    "for line in lines:\n",
    "    start = line[0]\n",
    "    end = line[1]\n",
    "    # checking that it's a horizontal or vertical line\n",
    "    if start[0] == end[0] or start[1] == end[1]:\n",
    "        # drawing horizontally\n",
    "        x = start[0]\n",
    "        while x < end[0]:\n",
    "            diagram[start[1]][x] += 1\n",
    "            x += 1\n",
    "        while x > end[0]:\n",
    "            diagram[start[1]][x] += 1\n",
    "            x -= 1\n",
    "\n",
    "        # drawing vertically\n",
    "            y = start[1]\n",
    "            while y < end[1]:\n",
    "                diagram[y][start[0]] += 1\n",
    "                y += 1\n",
    "            while y > end[1]:\n",
    "                diagram[y][start[0]] += 1\n",
    "                y -= 1"
   ]
  },
  {
   "cell_type": "code",
   "execution_count": 4,
   "metadata": {},
   "outputs": [],
   "source": [
    "diffs = [] # the order of elements in diffs should match up with the order of lines.  each element in diffs corresponds to a line in lines\n",
    "for line in lines:\n",
    "    dx = line[1][0] - line[0][0]\n",
    "    dy = line[1][1] - line[0][1]\n",
    "    diffs.append([dx, dy])"
   ]
  }
 ],
 "metadata": {
  "kernelspec": {
   "display_name": "Python 3.10.4 64-bit",
   "language": "python",
   "name": "python3"
  },
  "language_info": {
   "codemirror_mode": {
    "name": "ipython",
    "version": 3
   },
   "file_extension": ".py",
   "mimetype": "text/x-python",
   "name": "python",
   "nbconvert_exporter": "python",
   "pygments_lexer": "ipython3",
   "version": "3.10.4"
  },
  "orig_nbformat": 4,
  "vscode": {
   "interpreter": {
    "hash": "200f4a5810850a7d1548608a7aa1ad0806081eb328ae73dc8b47718d745bc0ba"
   }
  }
 },
 "nbformat": 4,
 "nbformat_minor": 2
}
