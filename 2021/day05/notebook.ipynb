{
 "cells": [
  {
   "cell_type": "code",
   "execution_count": 134,
   "metadata": {},
   "outputs": [],
   "source": [
    "f = open(\"example.txt\", \"r\")\n",
    "lines = []\n",
    "for line in f:\n",
    "    line = line.rstrip()\n",
    "    words = line.split()\n",
    "\n",
    "    start = [int(coord) for coord in words[0].split(\",\")]\n",
    "    end = [int(coord) for coord in words[2].split(\",\")]\n",
    "\n",
    "    lines.append([start, end])"
   ]
  },
  {
   "cell_type": "code",
   "execution_count": 135,
   "metadata": {},
   "outputs": [],
   "source": [
    "xMax = 0\n",
    "yMax = 0\n",
    "for line in lines:\n",
    "    for point in line:\n",
    "        if point[0] > xMax: xMax = point[0]\n",
    "        if point[1] > yMax: yMax = point[1]\n",
    "\n",
    "diagram = [\n",
    "    [0 for j in range(xMax + 1)]\n",
    "for i in range(yMax + 1)]"
   ]
  },
  {
   "cell_type": "code",
   "execution_count": 136,
   "metadata": {},
   "outputs": [],
   "source": [
    "diffs = [] # the order of elements in diffs should match up with the order of lines.  each element in diffs corresponds to a line in lines\n",
    "for line in lines:\n",
    "    dx = line[1][0] - line[0][0]\n",
    "    dy = line[1][1] - line[0][1]\n",
    "    diffs.append([dx, dy])"
   ]
  },
  {
   "cell_type": "code",
   "execution_count": 139,
   "metadata": {},
   "outputs": [
    {
     "name": "stdout",
     "output_type": "stream",
     "text": [
      "5 0\n",
      "9 0\n",
      "9 1\n",
      "9 2\n",
      "9 3\n",
      "9 4\n",
      "9 5\n",
      "\n",
      "-8 8\n",
      "\n",
      "-6 0\n",
      "4 9\n",
      "4 8\n",
      "4 7\n",
      "4 6\n",
      "4 5\n",
      "\n",
      "0 -1\n",
      "\n",
      "0 4\n",
      "0 7\n",
      "1 7\n",
      "2 7\n",
      "3 7\n",
      "4 7\n",
      "\n",
      "-4 -4\n",
      "\n",
      "2 0\n",
      "9 0\n",
      "9 1\n",
      "9 2\n",
      "\n",
      "-2 0\n",
      "4 3\n",
      "\n",
      "8 8\n",
      "\n",
      "3 -3\n",
      "\n"
     ]
    }
   ],
   "source": [
    "# drawing horizontal and vertical lines on the diagram\n",
    "\n",
    "for i in range(len(lines)):\n",
    "    line = lines[i]\n",
    "    startX = line[0][0]\n",
    "    startY = line[0][1]\n",
    "    endX = line[1][0]\n",
    "    endY = line[1][1]\n",
    "    diffX = diffs[i][0]\n",
    "    diffY = diffs[i][1]\n",
    "\n",
    "    print(diffX, diffY)\n",
    "\n",
    "    if diffY == 0: # drawing horizontally\n",
    "        for x in range(startX, endX + 1, int(diffX/abs(diffX))):\n",
    "            diagram[startY][x] += 1\n",
    "            print(startY, x)\n",
    "\n",
    "    if diffX == 0: # drawing vertically\n",
    "        for y in range(startY, endY + 1, int(diffY/abs(diffY))):\n",
    "            diagram[y][startX] += 1\n",
    "            print(y, startX)\n",
    "    print()"
   ]
  },
  {
   "cell_type": "code",
   "execution_count": 138,
   "metadata": {},
   "outputs": [
    {
     "name": "stdout",
     "output_type": "stream",
     "text": [
      ". . . . . . . 1 . . \n",
      ". . . . . . . 1 . . \n",
      ". . . . . . . 1 . . \n",
      ". . . . . . . 1 . . \n",
      ". . . 1 . 1 1 2 1 1 \n",
      ". . . . . . . . . . \n",
      ". . . . . . . . . . \n",
      ". . . . . . . . . . \n",
      ". . . . . . . . . . \n",
      "2 2 2 1 1 1 . . . . \n"
     ]
    }
   ],
   "source": [
    "for row in diagram:\n",
    "    for element in row:\n",
    "        if element == 0:\n",
    "            print(\".\", end=\" \")\n",
    "        else: print(element, end=\" \")\n",
    "    print()"
   ]
  }
 ],
 "metadata": {
  "kernelspec": {
   "display_name": "Python 3.10.4 64-bit",
   "language": "python",
   "name": "python3"
  },
  "language_info": {
   "codemirror_mode": {
    "name": "ipython",
    "version": 3
   },
   "file_extension": ".py",
   "mimetype": "text/x-python",
   "name": "python",
   "nbconvert_exporter": "python",
   "pygments_lexer": "ipython3",
   "version": "3.10.4"
  },
  "orig_nbformat": 4,
  "vscode": {
   "interpreter": {
    "hash": "200f4a5810850a7d1548608a7aa1ad0806081eb328ae73dc8b47718d745bc0ba"
   }
  }
 },
 "nbformat": 4,
 "nbformat_minor": 2
}
