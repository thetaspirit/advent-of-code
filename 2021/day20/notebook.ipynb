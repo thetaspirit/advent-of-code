{
 "cells": [
  {
   "cell_type": "code",
   "execution_count": 20,
   "metadata": {},
   "outputs": [],
   "source": [
    "f = open(\"example.txt\", \"r\")\n",
    "enhancement = f.readline()\n",
    "f.readline()\n",
    "\n",
    "image = []\n",
    "for line in f:\n",
    "    line = line.rstrip()\n",
    "    image.append([c for c in line])"
   ]
  },
  {
   "cell_type": "code",
   "execution_count": 24,
   "metadata": {},
   "outputs": [],
   "source": [
    "def getIndex(pixel): # pixel is the (row, col) of the middle coordinate of the window\n",
    "    binStr = \"\"\n",
    "    # building the 3x3 \"window\"\n",
    "    for row in range(3):\n",
    "        for col in range(3):\n",
    "            binStr += (image[row + pixel[0] - 1][col + pixel[1] -1])\n",
    "\n",
    "    return int(binStr.replace(\"#\", \"1\").replace(\".\", \"0\"), 2)\n"
   ]
  },
  {
   "cell_type": "code",
   "execution_count": 25,
   "metadata": {},
   "outputs": [
    {
     "name": "stdout",
     "output_type": "stream",
     "text": [
      "34\n"
     ]
    }
   ],
   "source": [
    "print(getIndex((2,2)))"
   ]
  }
 ],
 "metadata": {
  "kernelspec": {
   "display_name": "Python 3.11.0 64-bit",
   "language": "python",
   "name": "python3"
  },
  "language_info": {
   "codemirror_mode": {
    "name": "ipython",
    "version": 3
   },
   "file_extension": ".py",
   "mimetype": "text/x-python",
   "name": "python",
   "nbconvert_exporter": "python",
   "pygments_lexer": "ipython3",
   "version": "3.11.0"
  },
  "orig_nbformat": 4,
  "vscode": {
   "interpreter": {
    "hash": "ee04cbac977d2b535c46fa441ffe8eebb3cc43140ac03ed42ee34b440816c0cf"
   }
  }
 },
 "nbformat": 4,
 "nbformat_minor": 2
}
