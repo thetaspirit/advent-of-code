{
 "cells": [
  {
   "cell_type": "code",
   "execution_count": 27,
   "metadata": {},
   "outputs": [],
   "source": [
    "def getSet(s: str):\n",
    "    a = int(s.split(\"-\")[0])\n",
    "    b = int(s.split(\"-\")[1])\n",
    "    return {i for i in range(a, b+1)}"
   ]
  },
  {
   "cell_type": "code",
   "execution_count": 28,
   "metadata": {},
   "outputs": [
    {
     "name": "stdout",
     "output_type": "stream",
     "text": [
      "2\n"
     ]
    }
   ],
   "source": [
    "f = open(\"example.txt\", \"r\")\n",
    "subsets = 0\n",
    "\n",
    "for line in f:\n",
    "    line.rstrip()\n",
    "\n",
    "    elf1 = line.split(\",\")[0]\n",
    "    elf2 = line.split(\",\")[1]\n",
    "\n",
    "    if getSet(elf1).issubset(getSet(elf2)) or getSet(elf2).issubset(getSet(elf1)):\n",
    "        subsets += 1\n",
    "\n",
    "print(subsets)"
   ]
  },
  {
   "cell_type": "code",
   "execution_count": 29,
   "metadata": {},
   "outputs": [
    {
     "name": "stdout",
     "output_type": "stream",
     "text": [
      "4\n"
     ]
    }
   ],
   "source": [
    "f = open(\"example.txt\", \"r\")\n",
    "intersections = 0\n",
    "\n",
    "for line in f:\n",
    "    line.rstrip()\n",
    "\n",
    "    elf1 = line.split(\",\")[0]\n",
    "    elf2 = line.split(\",\")[1]\n",
    "\n",
    "    if len(getSet(elf1).intersection(getSet(elf2))) != 0:\n",
    "        intersections += 1\n",
    "print(intersections)"
   ]
  }
 ],
 "metadata": {
  "kernelspec": {
   "display_name": "Python 3.11.0 64-bit",
   "language": "python",
   "name": "python3"
  },
  "language_info": {
   "codemirror_mode": {
    "name": "ipython",
    "version": 3
   },
   "file_extension": ".py",
   "mimetype": "text/x-python",
   "name": "python",
   "nbconvert_exporter": "python",
   "pygments_lexer": "ipython3",
   "version": "3.11.0"
  },
  "orig_nbformat": 4,
  "vscode": {
   "interpreter": {
    "hash": "ee04cbac977d2b535c46fa441ffe8eebb3cc43140ac03ed42ee34b440816c0cf"
   }
  }
 },
 "nbformat": 4,
 "nbformat_minor": 2
}
