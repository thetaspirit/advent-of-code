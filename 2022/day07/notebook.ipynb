{
 "cells": [
  {
   "cell_type": "code",
   "execution_count": 53,
   "metadata": {},
   "outputs": [],
   "source": [
    "f = open(\"example.txt\", \"r\")\n",
    "lines = [line.rstrip() for line in f]"
   ]
  },
  {
   "cell_type": "code",
   "execution_count": 54,
   "metadata": {},
   "outputs": [],
   "source": [
    "class Directory:\n",
    "    def __init__(self, name, parent):\n",
    "        self.name = name\n",
    "        self.contents = [] # contains a mix of Files and other Directories\n",
    "        self.parent = parent\n",
    "    def __repr__(self):\n",
    "        if self.parent != None: # if we are not the root directory\n",
    "            return repr(self.parent) + \"/\" + self.name\n",
    "        else: return \"\"\n",
    "\n",
    "    def getFilesize(self):\n",
    "        sum = 0\n",
    "        for item in self.contents:\n",
    "            if isinstance(item, File):\n",
    "                sum += item.size\n",
    "            else: # assume it's a Dictionary.  I can't explicitly state that bc this is in the Dictionary class\n",
    "                sum += item.getFilesize()\n",
    "\n",
    "class File:\n",
    "    def __init__(self, name, size, parent: Directory):\n",
    "        self.name = name\n",
    "        self.size = size\n",
    "        self.parent = parent\n",
    "    def __repr__(self):\n",
    "        return str(self.parent) + \"/\" + self.name"
   ]
  },
  {
   "cell_type": "code",
   "execution_count": 55,
   "metadata": {},
   "outputs": [],
   "source": [
    "def findDir(name, parent: Directory): # returns a Directory with given name in parent Directory.  Returns None if none found\n",
    "    for item in parent.contents:\n",
    "        if isinstance(item, Directory):\n",
    "            if item.name == name:\n",
    "                return item\n",
    "    return None"
   ]
  },
  {
   "cell_type": "code",
   "execution_count": 56,
   "metadata": {},
   "outputs": [],
   "source": [
    "currentDir = Directory(\"/\", None)\n",
    "path = [] # a Stack of Directories.  does not include current Directory\n",
    "\n",
    "i = 1 # yes, that's a 1 not a 0 hahaaaaaaaaaaaaaaaaaa\n",
    "while i < len(lines):\n",
    "    line = lines[i]\n",
    "    if line[0] == \"$\":\n",
    "        command = line.split()[1]\n",
    "\n",
    "        if command == \"cd\":\n",
    "            dirName = line.split()[2]\n",
    "\n",
    "            if dirName != \"..\":\n",
    "                path.append(currentDir) # guarantee that path[-1] exists\n",
    "\n",
    "                # Check if the Directory we are cd-ing into already exists\n",
    "                if findDir(dirName, path[-1]) == None: # if not, create it\n",
    "                    currentDir = Directory(dirName, path[-1])\n",
    "                else: # otherwise, set that pre-existing Directory as our current\n",
    "                    currentDir = findDir(dirName, path[-1]) \n",
    "\n",
    "            else: # we are cd-ing upward\n",
    "                currentDir = path.pop()\n",
    "                i += 1\n",
    "                continue\n",
    "\n",
    "        if command == \"ls\":\n",
    "            i += 1\n",
    "            continue\n",
    "\n",
    "    if line[0] != \"$\":\n",
    "        if line.split()[0] != \"dir\": # add the file size and name to our list of current Directory's contents\n",
    "            currentDir.contents.append(File(line.split()[1], int(line.split()[0]), currentDir))\n",
    "    \n",
    "    i += 1"
   ]
  },
  {
   "cell_type": "code",
   "execution_count": 57,
   "metadata": {},
   "outputs": [
    {
     "name": "stdout",
     "output_type": "stream",
     "text": [
      "[/b.txt, /c.dat]\n"
     ]
    }
   ],
   "source": [
    "print(path[0].contents)"
   ]
  }
 ],
 "metadata": {
  "kernelspec": {
   "display_name": "Python 3.10.4 64-bit",
   "language": "python",
   "name": "python3"
  },
  "language_info": {
   "codemirror_mode": {
    "name": "ipython",
    "version": 3
   },
   "file_extension": ".py",
   "mimetype": "text/x-python",
   "name": "python",
   "nbconvert_exporter": "python",
   "pygments_lexer": "ipython3",
   "version": "3.10.4"
  },
  "orig_nbformat": 4,
  "vscode": {
   "interpreter": {
    "hash": "200f4a5810850a7d1548608a7aa1ad0806081eb328ae73dc8b47718d745bc0ba"
   }
  }
 },
 "nbformat": 4,
 "nbformat_minor": 2
}
