{
 "cells": [
  {
   "cell_type": "code",
   "execution_count": 94,
   "metadata": {},
   "outputs": [],
   "source": [
    "f = open(\"example.txt\", \"r\")\n",
    "lines = [line.rstrip() for line in f]"
   ]
  },
  {
   "cell_type": "code",
   "execution_count": 95,
   "metadata": {},
   "outputs": [],
   "source": [
    "class Directory:\n",
    "    def __init__(self, name, parent):\n",
    "        self.name = name\n",
    "        self.contents = [] # contains a mix of Files and other Directories\n",
    "        self.parent = parent\n",
    "    def __repr__(self):\n",
    "        if self.parent != None: # if we are not the root directory\n",
    "            return repr(self.parent) + \"|\" + self.name\n",
    "        else: return self.name\n",
    "\n",
    "class File:\n",
    "    def __init__(self, name, size, parent: Directory):\n",
    "        self.name = name\n",
    "        self.size = size\n",
    "        self.parent = parent\n",
    "    def __repr__(self):\n",
    "        return self.parent + \"|\" + self.name"
   ]
  },
  {
   "cell_type": "code",
   "execution_count": 96,
   "metadata": {},
   "outputs": [],
   "source": [
    "def findDir(name, parent: Directory): # returns a Directory with given name in parent Directory.  Returns None if none found\n",
    "    for item in parent.contents:\n",
    "        if isinstance(item, Directory):\n",
    "            if item.name == name:\n",
    "                return item\n",
    "    return None"
   ]
  },
  {
   "cell_type": "code",
   "execution_count": 97,
   "metadata": {},
   "outputs": [
    {
     "name": "stdout",
     "output_type": "stream",
     "text": [
      "/ \n",
      "/|/ /\n",
      "/|/ /\n",
      "/|/ /\n",
      "/|/ /\n",
      "/|/ /\n",
      "/|/ /\n",
      "/|/|a /\n",
      "/|/|a /\n",
      "/|/|a /\n",
      "/|/|a /\n",
      "/|/|a /\n",
      "/|/|a /\n",
      "/|/|a|e a\n",
      "/|/|a|e a\n",
      "/|/|a|e a\n",
      "/|/|a /\n",
      "/|/ /\n",
      "/|/|d /\n",
      "/|/|d /\n",
      "/|/|d /\n",
      "/|/|d /\n",
      "/|/|d /\n"
     ]
    }
   ],
   "source": [
    "currentDir = Directory(\"/\", None)\n",
    "path = [] # a Stack of Directories.  does not include current Directory\n",
    "\n",
    "i = 0\n",
    "while i < len(lines):\n",
    "    print(currentDir, end=\" \")\n",
    "    if currentDir.parent != None:\n",
    "        print(currentDir.parent.name)\n",
    "    else: print()\n",
    "\n",
    "    line = lines[i]\n",
    "    if line[0] == \"$\":\n",
    "        command = line.split()[1]\n",
    "\n",
    "        if command == \"cd\":\n",
    "            dirName = line.split()[2]\n",
    "\n",
    "            if dirName != \"..\":\n",
    "                path.append(currentDir)\n",
    "\n",
    "                # Check if the Directory we are cd-ing into already exists\n",
    "                if findDir(dirName, path[-1]) == None: # if not, create it\n",
    "                    currentDir = Directory(dirName, path[-1])\n",
    "                else: # otherwise, set that pre-existing Directory as our current\n",
    "                    currentDir = findDir(dirName, path[-1]) \n",
    "\n",
    "            else: # we are cd-ing upward\n",
    "                currentDir = path.pop()\n",
    "                i += 1\n",
    "                continue\n",
    "\n",
    "        if command == \"ls\":\n",
    "            i += 1\n",
    "            continue\n",
    "\n",
    "    if line[0] != \"$\":\n",
    "        if line.split()[0] != \"dir\": # add the file size and name to our list of current Directory's contents\n",
    "            currentDir.contents.append(File(line.split()[1], int(line.split()[0]), currentDir))\n",
    "        else:\n",
    "            currentDir.contents.append(Directory(line.split()[0], currentDir))\n",
    "    \n",
    "    i += 1\n"
   ]
  },
  {
   "cell_type": "code",
   "execution_count": 98,
   "metadata": {},
   "outputs": [
    {
     "name": "stdout",
     "output_type": "stream",
     "text": [
      "/|/|d\n"
     ]
    }
   ],
   "source": [
    "print(currentDir)"
   ]
  }
 ],
 "metadata": {
  "kernelspec": {
   "display_name": "Python 3.10.4 64-bit",
   "language": "python",
   "name": "python3"
  },
  "language_info": {
   "codemirror_mode": {
    "name": "ipython",
    "version": 3
   },
   "file_extension": ".py",
   "mimetype": "text/x-python",
   "name": "python",
   "nbconvert_exporter": "python",
   "pygments_lexer": "ipython3",
   "version": "3.10.4"
  },
  "orig_nbformat": 4,
  "vscode": {
   "interpreter": {
    "hash": "200f4a5810850a7d1548608a7aa1ad0806081eb328ae73dc8b47718d745bc0ba"
   }
  }
 },
 "nbformat": 4,
 "nbformat_minor": 2
}
