{
 "cells": [
  {
   "cell_type": "code",
   "execution_count": 63,
   "metadata": {},
   "outputs": [],
   "source": [
    "f = open(\"example.txt\", \"r\")\n",
    "lines = [line.rstrip() for line in f]"
   ]
  },
  {
   "cell_type": "code",
   "execution_count": 64,
   "metadata": {},
   "outputs": [],
   "source": [
    "class Directory:\n",
    "    def __init__(self, name, parent):\n",
    "        self.name = name\n",
    "        self.contents = set() # contains a mix of Files and other Directories.  it's a set (as opposed to a list or smth) to account for duplicates, and idc abt order\n",
    "        self.parent = parent\n",
    "    \n",
    "    def __repr__(self):\n",
    "        if self.parent != None: # if we are not the root directory\n",
    "            return repr(self.parent) + \"/\" + self.name\n",
    "        else: return \"root\"\n",
    "\n",
    "    def getFilesize(self):\n",
    "        sum = 0\n",
    "        for item in self.contents:\n",
    "            if isinstance(item, File):\n",
    "                sum += item.size\n",
    "            else: # assume it's a Dictionary.  I can't explicitly state that bc this is in the Dictionary class\n",
    "                sum += item.getFilesize()\n",
    "\n",
    "    def tree(self, indent=0): # uese rEeeeEEEeeEcUrsIoN to PRINT a lil file tree\n",
    "        i = indent\n",
    "        # first print the name of this directory\n",
    "        print((\"| \" * i) + self.name + \" (dir)\")\n",
    "        for item in self.contents:\n",
    "            if isinstance(item, Directory):\n",
    "                item.tree(indent=i+1)\n",
    "            elif isinstance(item, File):\n",
    "                print(((\"| \") * (i + 1)) + item.name + \" \" + str(item.size))\n",
    "\n",
    "\n",
    "class File:\n",
    "    def __init__(self, name, size, parent: Directory):\n",
    "        self.name = name\n",
    "        self.size = size\n",
    "        self.parent = parent\n",
    "    def __repr__(self):\n",
    "        return str(self.parent) + \"/\" + self.name"
   ]
  },
  {
   "cell_type": "code",
   "execution_count": 65,
   "metadata": {},
   "outputs": [
    {
     "name": "stdout",
     "output_type": "stream",
     "text": [
      "test (dir)\n",
      "| child (dir)\n",
      "| | f 42\n",
      "| | grandchild (dir)\n"
     ]
    }
   ],
   "source": [
    "testDir = Directory(\"test\", None)\n",
    "testChild = Directory(\"child\", testDir)\n",
    "testChild.parent.contents.add(testChild)\n",
    "testChild.contents.add(Directory(\"grandchild\", testChild))\n",
    "testChild.contents.add(File(\"f\", 42, testChild))\n",
    "\n",
    "testDir.tree()"
   ]
  },
  {
   "cell_type": "code",
   "execution_count": 66,
   "metadata": {},
   "outputs": [],
   "source": [
    "def findChildDir(name, parent: Directory): # returns a Directory with given name in parent Directory.  Returns None if none found\n",
    "    for item in parent.contents:\n",
    "        if isinstance(item, Directory):\n",
    "            if item.name == name:\n",
    "                return item\n",
    "    return None"
   ]
  },
  {
   "cell_type": "code",
   "execution_count": 69,
   "metadata": {},
   "outputs": [],
   "source": [
    "root = Directory(\"/\", None)\n",
    "currentDir = root\n",
    "\n",
    "i = 1 # yes, that's a 1 not a 0 hahaaaaaaaaaaaaaaaaaa (we're skipping the first line bc it's always \"cd /\")\n",
    "while i < len(lines):\n",
    "    line = lines[i]\n",
    "    if line[0] == \"$\":\n",
    "        command = line.split()[1]\n",
    "\n",
    "        if command == \"cd\":\n",
    "            dirName = line.split()[2]\n",
    "\n",
    "            if dirName != \"..\":\n",
    "                # Check if the Directory we are cd-ing into already exists as a child\n",
    "                if findChildDir(dirName, currentDir) == None: # if not, create it\n",
    "                    currentDir = Directory(dirName, currentDir)\n",
    "                    currentDir.parent.contents.add(currentDir) # also add the new directory to its parent's self.contents\n",
    "                else: # otherwise, set that pre-existing Directory as our current\n",
    "                    currentDir = findChildDir(dirName, currentDir) \n",
    "\n",
    "            else: # we are cd-ing upward\n",
    "                currentDir = currentDir.parent\n",
    "                i += 1\n",
    "                continue\n",
    "\n",
    "        if command == \"ls\":\n",
    "            i += 1\n",
    "            continue\n",
    "\n",
    "    if line[0] != \"$\":\n",
    "        if line.split()[0] != \"dir\": # add the file size and name to our list of current Directory's contents\n",
    "            currentDir.contents.add(File(line.split()[1], int(line.split()[0]), currentDir))\n",
    "    \n",
    "    i += 1"
   ]
  },
  {
   "cell_type": "code",
   "execution_count": 70,
   "metadata": {},
   "outputs": [
    {
     "name": "stdout",
     "output_type": "stream",
     "text": [
      "/ (dir)\n",
      "| a (dir)\n",
      "| | f 29116\n",
      "| | h.lst 62596\n",
      "| | e (dir)\n",
      "| | | i 584\n",
      "| | g 2557\n",
      "| d (dir)\n",
      "| | d.ext 5626152\n",
      "| | k 7214296\n",
      "| | d.log 8033020\n",
      "| | j 4060174\n",
      "| b.txt 14848514\n",
      "| c.dat 8504156\n"
     ]
    }
   ],
   "source": [
    "root.tree()"
   ]
  }
 ],
 "metadata": {
  "kernelspec": {
   "display_name": "Python 3.10.4 64-bit",
   "language": "python",
   "name": "python3"
  },
  "language_info": {
   "codemirror_mode": {
    "name": "ipython",
    "version": 3
   },
   "file_extension": ".py",
   "mimetype": "text/x-python",
   "name": "python",
   "nbconvert_exporter": "python",
   "pygments_lexer": "ipython3",
   "version": "3.10.4"
  },
  "orig_nbformat": 4,
  "vscode": {
   "interpreter": {
    "hash": "200f4a5810850a7d1548608a7aa1ad0806081eb328ae73dc8b47718d745bc0ba"
   }
  }
 },
 "nbformat": 4,
 "nbformat_minor": 2
}
