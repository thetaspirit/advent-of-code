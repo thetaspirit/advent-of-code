{
 "cells": [
  {
   "cell_type": "code",
   "execution_count": 14,
   "metadata": {},
   "outputs": [],
   "source": [
    "f = open(\"input.txt\", \"r\")\n",
    "lines = [line.rstrip() for line in f]"
   ]
  },
  {
   "attachments": {},
   "cell_type": "markdown",
   "metadata": {},
   "source": [
    "### Note on Class structure\n",
    "The structure between Directories and Files could be a little cleaner.  It feels like dependency is going in circles rather than straight down.  Might be leaking abstractions between the two.  Ideally, either Directories don't know child Directories exist, or parents don't know children exist.  But I think the problem was that I couldn't decide on which way to go, so I added in both."
   ]
  },
  {
   "cell_type": "code",
   "execution_count": 15,
   "metadata": {},
   "outputs": [],
   "source": [
    "class Directory:\n",
    "    def __init__(self, name, parent):\n",
    "        self.name = name\n",
    "        self.contents = set() # contains a mix of Files and other Directories.  it's a set (as opposed to a list or smth) to account for duplicates, and idc abt order\n",
    "        self.parent = parent\n",
    "    \n",
    "    def __repr__(self):\n",
    "        if self.parent != None: # if we are not the root directory\n",
    "            return repr(self.parent) + \"/\" + self.name\n",
    "        else: return \"root\"\n",
    "\n",
    "    def getSize(self):\n",
    "        sum = 0\n",
    "        for item in self.contents:\n",
    "            if isinstance(item, File):\n",
    "                sum += item.size\n",
    "            elif isinstance(item, Directory):\n",
    "                sum += item.getSize()\n",
    "        return sum\n",
    "\n",
    "    def tree(self, indent=0): # uese rEeeeEEEeeEcUrsIoN to PRINT a lil file tree\n",
    "        i = indent\n",
    "        # first print the name of this directory\n",
    "        print((\"| \" * i) + self.name + \" (dir)\")\n",
    "        for item in self.contents:\n",
    "            if isinstance(item, Directory):\n",
    "                item.tree(indent=i+1)\n",
    "            elif isinstance(item, File):\n",
    "                print(((\"| \") * (i + 1)) + item.name + \" \" + str(item.size))\n",
    "\n",
    "\n",
    "class File:\n",
    "    def __init__(self, name, size, parent: Directory):\n",
    "        self.name = name\n",
    "        self.size = size\n",
    "        self.parent = parent\n",
    "    def __repr__(self):\n",
    "        return str(self.parent) + \"/\" + self.name"
   ]
  },
  {
   "cell_type": "code",
   "execution_count": 16,
   "metadata": {},
   "outputs": [],
   "source": [
    "def findChildDir(name, parent: Directory): # returns a Directory with given name in parent Directory.  Returns None if none found\n",
    "    for item in parent.contents:\n",
    "        if isinstance(item, Directory):\n",
    "            if item.name == name:\n",
    "                return item\n",
    "    return None"
   ]
  },
  {
   "cell_type": "code",
   "execution_count": 17,
   "metadata": {},
   "outputs": [],
   "source": [
    "root = Directory(\"/\", None)\n",
    "currentDir = root\n",
    "dirs = set() # set of all directories and subdirectories so we can calculate their sum later.  doesn't matter if we add same object multipl times :)\n",
    "\n",
    "i = 1 # yes, that's a 1 not a 0 hahaaaaaaaaaaaaaaaaaa (we're skipping the first line bc it's always \"cd /\")\n",
    "while i < len(lines):\n",
    "    dirs.add(currentDir)\n",
    "\n",
    "    line = lines[i]\n",
    "    if line[0] == \"$\":\n",
    "        command = line.split()[1]\n",
    "\n",
    "        if command == \"cd\":\n",
    "            dirName = line.split()[2]\n",
    "\n",
    "            if dirName != \"..\":\n",
    "                # Check if the Directory we are cd-ing into already exists as a child\n",
    "                if findChildDir(dirName, currentDir) == None: # if not, create it\n",
    "                    currentDir = Directory(dirName, currentDir)\n",
    "                    currentDir.parent.contents.add(currentDir) # also add the new directory to its parent's self.contents\n",
    "                else: # otherwise, set that pre-existing Directory as our current\n",
    "                    currentDir = findChildDir(dirName, currentDir) \n",
    "\n",
    "            else: # we are cd-ing upward\n",
    "                currentDir = currentDir.parent\n",
    "                i += 1\n",
    "                continue\n",
    "\n",
    "        if command == \"ls\":\n",
    "            i += 1\n",
    "            continue\n",
    "\n",
    "    if line[0] != \"$\":\n",
    "        if line.split()[0] != \"dir\": # add the file size and name to our list of current Directory's contents\n",
    "            currentDir.contents.add(File(line.split()[1], int(line.split()[0]), currentDir))\n",
    "    \n",
    "    i += 1"
   ]
  },
  {
   "cell_type": "code",
   "execution_count": 18,
   "metadata": {},
   "outputs": [
    {
     "name": "stdout",
     "output_type": "stream",
     "text": [
      "1491614\n"
     ]
    }
   ],
   "source": [
    "total = 0\n",
    "\n",
    "for d in dirs:\n",
    "    s = d.getSize()\n",
    "    if s <= 100000:\n",
    "        total += s\n",
    "\n",
    "print(total)"
   ]
  }
 ],
 "metadata": {
  "kernelspec": {
   "display_name": "Python 3.10.4 64-bit",
   "language": "python",
   "name": "python3"
  },
  "language_info": {
   "codemirror_mode": {
    "name": "ipython",
    "version": 3
   },
   "file_extension": ".py",
   "mimetype": "text/x-python",
   "name": "python",
   "nbconvert_exporter": "python",
   "pygments_lexer": "ipython3",
   "version": "3.10.4"
  },
  "orig_nbformat": 4,
  "vscode": {
   "interpreter": {
    "hash": "200f4a5810850a7d1548608a7aa1ad0806081eb328ae73dc8b47718d745bc0ba"
   }
  }
 },
 "nbformat": 4,
 "nbformat_minor": 2
}
