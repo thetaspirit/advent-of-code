{
 "cells": [
  {
   "cell_type": "code",
   "execution_count": 42,
   "metadata": {},
   "outputs": [],
   "source": [
    "f = open(\"example.txt\", \"r\")\n",
    "lines = [line.rstrip() for line in f]"
   ]
  },
  {
   "cell_type": "code",
   "execution_count": null,
   "metadata": {},
   "outputs": [],
   "source": [
    "class Directory:\n",
    "    def __init__(self, name, parent):\n",
    "        self.name = name\n",
    "        self.contents = [] # contains either Files or other Directories\n",
    "        self.parent = parent\n",
    "\n",
    "class File:\n",
    "    def __init__(self, name, size):\n",
    "        self.name = name\n",
    "        self.size = size"
   ]
  },
  {
   "cell_type": "code",
   "execution_count": 43,
   "metadata": {},
   "outputs": [
    {
     "name": "stdout",
     "output_type": "stream",
     "text": [
      "$ cd / /\n",
      "$ cd a a\n",
      "$ cd e e\n",
      "$ cd .. ..\n",
      "$ cd .. ..\n",
      "$ cd d d\n"
     ]
    }
   ],
   "source": [
    "currentDir = None\n",
    "path = [] # a Stack of Directories\n",
    "files = () # keys: directory names.  values: list of tuples (file size, file name)\n",
    "\n",
    "i = 0\n",
    "while i < len(lines):\n",
    "    line = lines[i]\n",
    "    if line[0] == \"$\":\n",
    "        command = line.split()[1]\n",
    "\n",
    "        if command == \"cd\":\n",
    "            dirName = line.split()[2]\n",
    "\n",
    "            if dirName != \"..\":\n",
    "                path.append(currentDir)\n",
    "                currentDir = \n",
    "\n",
    "                if currentDir not in path[-1]:\n",
    "                    \n",
    "            else:\n",
    "                currentDir = path.pop()\n",
    "\n",
    "        if command == \"ls\":\n",
    "            continue\n",
    "\n",
    "    if line[0] != \"$\":\n",
    "        if line.split()[0] != \"dir\":\n",
    "            dirs[currentDir].append(\n",
    "                (int(line.split()[0]), (line.split()[1])))\n",
    "\n",
    "    i += 1\n"
   ]
  },
  {
   "cell_type": "code",
   "execution_count": 44,
   "metadata": {},
   "outputs": [
    {
     "name": "stdout",
     "output_type": "stream",
     "text": [
      "/ [(14848514, 'b.txt'), (8504156, 'c.dat')]\n",
      "a [(29116, 'f'), (2557, 'g'), (62596, 'h.lst')]\n",
      "e []\n",
      "d [(8033020, 'd.log'), (5626152, 'd.ext'), (7214296, 'k')]\n"
     ]
    }
   ],
   "source": [
    "for dir in dirs.keys():\n",
    "    print(dir, dirs[dir])"
   ]
  }
 ],
 "metadata": {
  "kernelspec": {
   "display_name": "Python 3.11.0 64-bit",
   "language": "python",
   "name": "python3"
  },
  "language_info": {
   "codemirror_mode": {
    "name": "ipython",
    "version": 3
   },
   "file_extension": ".py",
   "mimetype": "text/x-python",
   "name": "python",
   "nbconvert_exporter": "python",
   "pygments_lexer": "ipython3",
   "version": "3.11.0"
  },
  "orig_nbformat": 4,
  "vscode": {
   "interpreter": {
    "hash": "ee04cbac977d2b535c46fa441ffe8eebb3cc43140ac03ed42ee34b440816c0cf"
   }
  }
 },
 "nbformat": 4,
 "nbformat_minor": 2
}
