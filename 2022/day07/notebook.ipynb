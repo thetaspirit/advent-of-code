{
 "cells": [
  {
   "cell_type": "code",
   "execution_count": null,
   "metadata": {},
   "outputs": [],
   "source": []
  }
 ],
 "metadata": {
  "kernelspec": {
   "display_name": "Python 3.11.0 64-bit",
   "language": "python",
   "name": "python3"
  },
  "language_info": {
   "name": "python",
   "version": "3.11.0"
  },
  "orig_nbformat": 4,
  "vscode": {
   "interpreter": {
    "hash": "ee04cbac977d2b535c46fa441ffe8eebb3cc43140ac03ed42ee34b440816c0cf"
   }
  }
 },
 "nbformat": 4,
 "nbformat_minor": 2
}
