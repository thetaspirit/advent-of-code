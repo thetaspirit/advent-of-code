{
 "cells": [
  {
   "cell_type": "code",
   "execution_count": 49,
   "metadata": {},
   "outputs": [],
   "source": [
    "f = open(\"input.txt\", \"r\")\n",
    "\n",
    "instructions = []\n",
    "\n",
    "for line in f:\n",
    "    line = line.rstrip().split(\" \")\n",
    "    instructions.append((line[0], int(line[1])))"
   ]
  },
  {
   "cell_type": "code",
   "execution_count": 50,
   "metadata": {},
   "outputs": [],
   "source": [
    "from enum import Enum\n",
    "class Direction(Enum): \n",
    "    # these represent new tail's coords wrt current tail's coords, given the Direction that head has moved\n",
    "    NORTH = (0, 1)\n",
    "    NORTHEAST = (1, 1)\n",
    "    EAST = (1, 0)\n",
    "    SOUTHEAST = (1, -1)\n",
    "    SOUTH = (0, -1)\n",
    "    SOUTHWEST = (-1, -1)\n",
    "    WEST = (-1, 0)\n",
    "    NORTHWEST = (-1, 1)"
   ]
  },
  {
   "cell_type": "code",
   "execution_count": 51,
   "metadata": {},
   "outputs": [],
   "source": [
    "def isTouching(hx, hy, tx, ty):\n",
    "    return abs(hx - tx) <= 1 and abs(hy - ty) <= 1\n",
    "\n",
    "def headDirection(hx, hy, tx, ty):\n",
    "    dx = hx - tx\n",
    "    dy = hy - ty\n",
    "\n",
    "    if dx == 0 and dy > 0: return Direction.NORTH\n",
    "    if dx > 0 and dy > 0: return Direction.NORTHEAST\n",
    "    if dx > 0 and dy == 0: return Direction.EAST\n",
    "    if dx > 0 and dy < 0: return Direction.SOUTHEAST\n",
    "    if dx == 0 and dy < 0: return Direction.SOUTH\n",
    "    if dx < 0 and dy < 0: return Direction.SOUTHWEST\n",
    "    if dx < 0 and dy == 0: return Direction.WEST\n",
    "    if dx < 0 and dy > 0: return Direction.NORTHWEST\n",
    "\n",
    "    if dx == 0 and dy == 0: return None\n",
    "\n",
    "def updateTail(hx, hy, tx, ty):\n",
    "    direction = headDirection(hx, hy, tx, ty)\n",
    "\n",
    "    if direction != None:\n",
    "        newX = tx + direction.value[0]\n",
    "        newY = ty + direction.value[1]\n",
    "        return (newX, newY)\n",
    "    else: return (tx, ty)"
   ]
  },
  {
   "cell_type": "code",
   "execution_count": 52,
   "metadata": {},
   "outputs": [
    {
     "name": "stdout",
     "output_type": "stream",
     "text": [
      "2384\n"
     ]
    }
   ],
   "source": [
    "coords = [[0, 0], [0, 0], [0, 0], [0, 0], [0, 0], [0, 0], [0, 0], [0, 0], [0, 0], [0, 0]]\n",
    "\n",
    "\n",
    "visited = set()\n",
    "visited.add(tuple(coords[9]))\n",
    "\n",
    "for i in instructions:\n",
    "    d = i[0]\n",
    "    for j in range(i[1]):\n",
    "        match d:\n",
    "            case 'R':\n",
    "                coords[0][0] += 1\n",
    "            case 'L':\n",
    "                coords[0][0] -= 1\n",
    "            case 'U':\n",
    "                coords[0][1] += 1\n",
    "            case 'D':\n",
    "                coords[0][1] -= 1\n",
    "            \n",
    "        for k in range(9):\n",
    "            if not isTouching(coords[k][0], coords[k][1], coords[k+1][0], coords[k+1][1]):\n",
    "                newTail = updateTail(coords[k][0], coords[k][1], coords[k+1][0], coords[k+1][1])\n",
    "                coords[k+1][0] = newTail[0]\n",
    "                coords[k+1][1] = newTail[1]\n",
    "        visited.add(tuple(coords[9]))\n",
    "\n",
    "# for c in coords:\n",
    "#     print(c[0], c[1])\n",
    "# print(visited)\n",
    "print(len(visited))"
   ]
  }
 ],
 "metadata": {
  "kernelspec": {
   "display_name": "Python 3",
   "language": "python",
   "name": "python3"
  },
  "language_info": {
   "codemirror_mode": {
    "name": "ipython",
    "version": 3
   },
   "file_extension": ".py",
   "mimetype": "text/x-python",
   "name": "python",
   "nbconvert_exporter": "python",
   "pygments_lexer": "ipython3",
   "version": "3.10.4"
  },
  "orig_nbformat": 4
 },
 "nbformat": 4,
 "nbformat_minor": 2
}
