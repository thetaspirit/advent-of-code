{
 "cells": [
  {
   "cell_type": "code",
   "execution_count": 1,
   "metadata": {},
   "outputs": [],
   "source": [
    "f = open(\"input.txt\", \"r\")\n",
    "forest = [[int(c) for c in line.rstrip()] for line in f]\n",
    "\n",
    "\"\"\"\n",
    "for row in forest:\n",
    "    print(row)\n",
    "\"\"\"\n",
    "\n",
    "forestHeight = len(forest)\n",
    "forestWidth = len(forest[0])"
   ]
  },
  {
   "cell_type": "code",
   "execution_count": 2,
   "metadata": {},
   "outputs": [],
   "source": [
    "def visFromNorth(row: int, col: int):\n",
    "    height = forest[row][col]\n",
    "    maxHeight = 0\n",
    "\n",
    "    while row > 0:\n",
    "        row -= 1\n",
    "        nextHeight = forest[row][col]\n",
    "        if nextHeight > maxHeight: maxHeight = nextHeight\n",
    "        if height <= maxHeight: return False\n",
    "    \n",
    "    return True\n",
    "\n",
    "\n",
    "def visFromSouth(row: int, col: int):\n",
    "    height = forest[row][col]\n",
    "    maxHeight = 0\n",
    "\n",
    "    while row < len(forest)-1:\n",
    "        row += 1\n",
    "        nextHeight = forest[row][col]\n",
    "        if nextHeight > maxHeight: maxHeight = nextHeight\n",
    "        if height <= maxHeight: return False\n",
    "    \n",
    "    return True\n",
    "\n",
    "\n",
    "def visFromEast(row: int, col: int):\n",
    "    height = forest[row][col]\n",
    "    maxHeight = 0\n",
    "\n",
    "    while col < len(forest[row])-1:\n",
    "        col += 1\n",
    "        nextHeight = forest[row][col]\n",
    "        if nextHeight > maxHeight: maxHeight = nextHeight\n",
    "        if height <= maxHeight: return False\n",
    "    \n",
    "    return True\n",
    "\n",
    "\n",
    "def visFromWest(row: int, col: int):\n",
    "    height = forest[row][col]\n",
    "    maxHeight = 0\n",
    "\n",
    "    while col > 0:\n",
    "        col -= 1\n",
    "        nextHeight = forest[row][col]\n",
    "        if nextHeight > maxHeight: maxHeight = nextHeight\n",
    "        if height <= maxHeight: return False\n",
    "    \n",
    "    return True"
   ]
  },
  {
   "cell_type": "code",
   "execution_count": 3,
   "metadata": {},
   "outputs": [
    {
     "name": "stdout",
     "output_type": "stream",
     "text": [
      "1546\n"
     ]
    }
   ],
   "source": [
    "north = set()\n",
    "south = set()\n",
    "east = set()\n",
    "west = set()\n",
    "\n",
    "for row in range(forestHeight):\n",
    "    for col in range(forestWidth):\n",
    "        if visFromNorth(row, col):  north.add((row, col))\n",
    "        if visFromSouth(row, col):  south.add((row, col))\n",
    "        if visFromEast(row, col):  east.add((row, col))\n",
    "        if visFromWest(row, col):  west.add((row, col))\n",
    "\n",
    "print(len(north.union(south, east, west)))"
   ]
  },
  {
   "cell_type": "code",
   "execution_count": 4,
   "metadata": {},
   "outputs": [],
   "source": [
    "def distFromNorth(row: int, col: int):\n",
    "    height = forest[row][col]\n",
    "    maxHeight = 0\n",
    "    distance = 0\n",
    "\n",
    "    while row > 0:\n",
    "        row -= 1\n",
    "        distance += 1\n",
    "        nextHeight = forest[row][col]\n",
    "        if nextHeight > maxHeight: maxHeight = nextHeight\n",
    "        if height <= maxHeight: break\n",
    "    \n",
    "    return distance\n",
    "\n",
    "\n",
    "def distFromSouth(row: int, col: int):\n",
    "    height = forest[row][col]\n",
    "    maxHeight = 0\n",
    "    distance = 0\n",
    "\n",
    "    while row < len(forest)-1:\n",
    "        row += 1\n",
    "        distance += 1\n",
    "        nextHeight = forest[row][col]\n",
    "        if nextHeight > maxHeight: maxHeight = nextHeight\n",
    "        if height <= maxHeight: break\n",
    "    \n",
    "    return distance\n",
    "\n",
    "\n",
    "def distFromEast(row: int, col: int):\n",
    "    height = forest[row][col]\n",
    "    maxHeight = 0\n",
    "    distance = 0\n",
    "\n",
    "    while col < len(forest[row])-1:\n",
    "        col += 1\n",
    "        distance += 1\n",
    "        nextHeight = forest[row][col]\n",
    "        if nextHeight > maxHeight: maxHeight = nextHeight\n",
    "        if height <= maxHeight: break\n",
    "    \n",
    "    return distance\n",
    "\n",
    "\n",
    "def distFromWest(row: int, col: int):\n",
    "    height = forest[row][col]\n",
    "    maxHeight = 0\n",
    "    distance = 0\n",
    "\n",
    "    while col > 0:\n",
    "        col -= 1\n",
    "        distance += 1\n",
    "        nextHeight = forest[row][col]\n",
    "        if nextHeight > maxHeight: maxHeight = nextHeight\n",
    "        if height <= maxHeight: break\n",
    "    \n",
    "    return distance"
   ]
  },
  {
   "cell_type": "code",
   "execution_count": 5,
   "metadata": {},
   "outputs": [
    {
     "name": "stdout",
     "output_type": "stream",
     "text": [
      "519064\n"
     ]
    }
   ],
   "source": [
    "scores = []\n",
    "\n",
    "for row in range(forestHeight):\n",
    "    for col in range(forestWidth):\n",
    "        # print(distFromNorth(row, col), distFromSouth(row, col), distFromEast(row, col), distFromWest(row, col))\n",
    "        d = distFromNorth(row, col) * distFromSouth(row, col) * distFromEast(row, col) * distFromWest(row, col)\n",
    "        scores.append(d)\n",
    "\n",
    "print(max(scores))"
   ]
  }
 ],
 "metadata": {
  "kernelspec": {
   "display_name": "Python 3",
   "language": "python",
   "name": "python3"
  },
  "language_info": {
   "codemirror_mode": {
    "name": "ipython",
    "version": 3
   },
   "file_extension": ".py",
   "mimetype": "text/x-python",
   "name": "python",
   "nbconvert_exporter": "python",
   "pygments_lexer": "ipython3",
   "version": "3.10.4"
  },
  "orig_nbformat": 4,
  "vscode": {
   "interpreter": {
    "hash": "200f4a5810850a7d1548608a7aa1ad0806081eb328ae73dc8b47718d745bc0ba"
   }
  }
 },
 "nbformat": 4,
 "nbformat_minor": 2
}
