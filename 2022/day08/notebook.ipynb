{
 "cells": [
  {
   "cell_type": "code",
   "execution_count": 29,
   "metadata": {},
   "outputs": [
    {
     "name": "stdout",
     "output_type": "stream",
     "text": [
      "['3', '0', '3', '7', '3']\n",
      "['2', '5', '5', '1', '2']\n",
      "['6', '5', '3', '3', '2']\n",
      "['3', '3', '5', '4', '9']\n",
      "['3', '5', '3', '9', '0']\n"
     ]
    }
   ],
   "source": [
    "f = open(\"example.txt\", \"r\")\n",
    "forest = [[c for c in line.rstrip()] for line in f]\n",
    "\n",
    "import math\n",
    "maxLayer = math.ceil(len(forest)/2 - 1)\n",
    "\n",
    "for row in forest:\n",
    "    print(row)"
   ]
  },
  {
   "cell_type": "code",
   "execution_count": 30,
   "metadata": {},
   "outputs": [],
   "source": [
    "visible = len(forest) * 2 + (len(forest) - 2) * 2 # counts the trees on the outer ring/edge that are automatically visible (since there are no other trees in front of them)"
   ]
  },
  {
   "cell_type": "code",
   "execution_count": 31,
   "metadata": {},
   "outputs": [],
   "source": [
    "# returns an array of arrays, one for each side: [[top row], [right side], [bottom row], [left side]].  note that corners DO overlap\n",
    "    # top row: right to left\n",
    "    # right side: top to bottom\n",
    "    # bottom row: right to left\n",
    "    # left side: top to bottom\n",
    "# layer is based on the top left corner\n",
    "def generateRing(layer):\n",
    "    topRow = forest[layer][layer:len(forest)-layer]\n",
    "    rightSide = [row[len(forest) - layer - 1] for row in forest[layer:len(forest)-layer]]\n",
    "    leftSide = [row[layer] for row in forest[layer:len(forest)-layer]]\n",
    "    bottomRow = forest[len(forest) - layer - 1][layer:len(forest)-layer]\n",
    "    return [topRow, rightSide, leftSide, bottomRow]"
   ]
  },
  {
   "cell_type": "code",
   "execution_count": 32,
   "metadata": {},
   "outputs": [],
   "source": [
    "def compare(outerRing, innerRing): # returns a ring the size of innerRing, but only of the most visible trees.  also increments the visible variable.\n",
    "    ring = [len(innerRing)][len(innerRing[0])]\n",
    "    \n",
    "    for line in range(len(innerRing)):\n",
    "        for tree in range(innerRing[line]):\n",
    "            innerTree = innerRing[line][tree]\n",
    "            outerTree = outerRing[line][tree + 1]\n",
    "            if innerTree > outerTree:\n",
    "                ring[line][tree] = innerTree\n",
    "                visible += 1\n",
    "            else:\n",
    "                ring[line][tree] = outerTree\n",
    "    return ring"
   ]
  },
  {
   "cell_type": "code",
   "execution_count": 33,
   "metadata": {},
   "outputs": [
    {
     "ename": "IndexError",
     "evalue": "list index out of range",
     "output_type": "error",
     "traceback": [
      "\u001b[1;31m---------------------------------------------------------------------------\u001b[0m",
      "\u001b[1;31mIndexError\u001b[0m                                Traceback (most recent call last)",
      "\u001b[1;32mc:\\Users\\delay\\Documents\\advent-of-code\\2022\\day08\\notebook.ipynb Cell 5\u001b[0m in \u001b[0;36m<cell line: 2>\u001b[1;34m()\u001b[0m\n\u001b[0;32m      <a href='vscode-notebook-cell:/c%3A/Users/delay/Documents/advent-of-code/2022/day08/notebook.ipynb#W4sZmlsZQ%3D%3D?line=0'>1</a>\u001b[0m ring \u001b[39m=\u001b[39m generateRing(\u001b[39m0\u001b[39m)\n\u001b[0;32m      <a href='vscode-notebook-cell:/c%3A/Users/delay/Documents/advent-of-code/2022/day08/notebook.ipynb#W4sZmlsZQ%3D%3D?line=1'>2</a>\u001b[0m \u001b[39mfor\u001b[39;00m layer \u001b[39min\u001b[39;00m \u001b[39mrange\u001b[39m(\u001b[39m3\u001b[39m):\n\u001b[1;32m----> <a href='vscode-notebook-cell:/c%3A/Users/delay/Documents/advent-of-code/2022/day08/notebook.ipynb#W4sZmlsZQ%3D%3D?line=2'>3</a>\u001b[0m     ring \u001b[39m=\u001b[39m compare(ring, generateRing(layer\u001b[39m+\u001b[39;49m\u001b[39m1\u001b[39;49m))\n",
      "\u001b[1;32mc:\\Users\\delay\\Documents\\advent-of-code\\2022\\day08\\notebook.ipynb Cell 5\u001b[0m in \u001b[0;36mcompare\u001b[1;34m(outerRing, innerRing)\u001b[0m\n\u001b[0;32m      <a href='vscode-notebook-cell:/c%3A/Users/delay/Documents/advent-of-code/2022/day08/notebook.ipynb#W4sZmlsZQ%3D%3D?line=0'>1</a>\u001b[0m \u001b[39mdef\u001b[39;00m \u001b[39mcompare\u001b[39m(outerRing, innerRing): \u001b[39m# returns a ring the size of innerRing, but only of the most visible trees.  also increments the visible variable.\u001b[39;00m\n\u001b[1;32m----> <a href='vscode-notebook-cell:/c%3A/Users/delay/Documents/advent-of-code/2022/day08/notebook.ipynb#W4sZmlsZQ%3D%3D?line=1'>2</a>\u001b[0m     ring \u001b[39m=\u001b[39m [\u001b[39mlen\u001b[39;49m(innerRing)][\u001b[39mlen\u001b[39;49m(innerRing[\u001b[39m0\u001b[39;49m])]\n\u001b[0;32m      <a href='vscode-notebook-cell:/c%3A/Users/delay/Documents/advent-of-code/2022/day08/notebook.ipynb#W4sZmlsZQ%3D%3D?line=3'>4</a>\u001b[0m     \u001b[39mfor\u001b[39;00m line \u001b[39min\u001b[39;00m \u001b[39mrange\u001b[39m(\u001b[39mlen\u001b[39m(innerRing)):\n\u001b[0;32m      <a href='vscode-notebook-cell:/c%3A/Users/delay/Documents/advent-of-code/2022/day08/notebook.ipynb#W4sZmlsZQ%3D%3D?line=4'>5</a>\u001b[0m         \u001b[39mfor\u001b[39;00m tree \u001b[39min\u001b[39;00m \u001b[39mrange\u001b[39m(innerRing[line]):\n",
      "\u001b[1;31mIndexError\u001b[0m: list index out of range"
     ]
    }
   ],
   "source": [
    "ring = generateRing(0)\n",
    "for layer in range(3):\n",
    "    ring = compare(ring, generateRing(layer+1))"
   ]
  }
 ],
 "metadata": {
  "kernelspec": {
   "display_name": "Python 3",
   "language": "python",
   "name": "python3"
  },
  "language_info": {
   "codemirror_mode": {
    "name": "ipython",
    "version": 3
   },
   "file_extension": ".py",
   "mimetype": "text/x-python",
   "name": "python",
   "nbconvert_exporter": "python",
   "pygments_lexer": "ipython3",
   "version": "3.10.4 (tags/v3.10.4:9d38120, Mar 23 2022, 23:13:41) [MSC v.1929 64 bit (AMD64)]"
  },
  "orig_nbformat": 4,
  "vscode": {
   "interpreter": {
    "hash": "200f4a5810850a7d1548608a7aa1ad0806081eb328ae73dc8b47718d745bc0ba"
   }
  }
 },
 "nbformat": 4,
 "nbformat_minor": 2
}
