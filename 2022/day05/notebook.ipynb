{
 "cells": [
  {
   "cell_type": "code",
   "execution_count": 38,
   "metadata": {},
   "outputs": [],
   "source": [
    "# generating the stacks\n",
    "stacks = [\n",
    "    [\"Z\", \"N\"],\n",
    "    [\"M\", \"C\", \"D\"],\n",
    "    [\"P\"]\n",
    "]\n",
    "f = open(\"example.txt\", \"r\")"
   ]
  },
  {
   "cell_type": "code",
   "execution_count": 41,
   "metadata": {},
   "outputs": [],
   "source": [
    "# generating the stacks\n",
    "stacks = [\n",
    "    [\"R\", \"G\", \"H\", \"Q\", \"S\", \"B\", \"T\", \"N\"],\n",
    "    [\"H\", \"S\", \"F\", \"D\", \"P\", \"Z\", \"J\"],\n",
    "    [\"Z\", \"H\", \"V\"],\n",
    "    [\"M\", \"Z\", \"J\", \"F\", \"G\", \"H\"],\n",
    "    [\"T\", \"Z\", \"C\", \"D\", \"L\", \"M\", \"S\", \"R\"],\n",
    "    [\"M\", \"T\", \"W\", \"V\", \"H\", \"Z\", \"J\"],\n",
    "    [\"T\", \"F\", \"P\", \"L\", \"Z\"],\n",
    "    [\"Q\", \"V\", \"W\", \"S\"],\n",
    "    [\"W\", \"H\", \"L\", \"M\", \"T\", \"D\", \"N\", \"C\"]\n",
    "]\n",
    "f = open(\"input.txt\", \"r\")"
   ]
  },
  {
   "cell_type": "code",
   "execution_count": 42,
   "metadata": {},
   "outputs": [],
   "source": [
    "reachedCommands = False\n",
    "commands = []\n",
    "for line in f:\n",
    "    line = line.strip()\n",
    "    if not reachedCommands:\n",
    "        reachedCommands = line == \"\"\n",
    "    else:\n",
    "        commands.append(line)"
   ]
  },
  {
   "cell_type": "code",
   "execution_count": 43,
   "metadata": {},
   "outputs": [
    {
     "name": "stdout",
     "output_type": "stream",
     "text": [
      "PTWLTDSJV"
     ]
    }
   ],
   "source": [
    "# move <amount> from <source> to <dest>\n",
    "def executeCommand(amount, source, dest):\n",
    "    source -= 1\n",
    "    dest -= 1\n",
    "    for i in range(amount):\n",
    "        stacks[dest].append(stacks[source].pop())\n",
    "\n",
    "for command in commands:\n",
    "    command = command.split()\n",
    "    executeCommand(int(command[1]), int(command[3]), int(command[5]))\n",
    "\n",
    "for stack in stacks:\n",
    "    print(stack[-1], end=\"\")"
   ]
  }
 ],
 "metadata": {
  "kernelspec": {
   "display_name": "Python 3.11.0 64-bit",
   "language": "python",
   "name": "python3"
  },
  "language_info": {
   "codemirror_mode": {
    "name": "ipython",
    "version": 3
   },
   "file_extension": ".py",
   "mimetype": "text/x-python",
   "name": "python",
   "nbconvert_exporter": "python",
   "pygments_lexer": "ipython3",
   "version": "3.11.0"
  },
  "orig_nbformat": 4,
  "vscode": {
   "interpreter": {
    "hash": "ee04cbac977d2b535c46fa441ffe8eebb3cc43140ac03ed42ee34b440816c0cf"
   }
  }
 },
 "nbformat": 4,
 "nbformat_minor": 2
}
