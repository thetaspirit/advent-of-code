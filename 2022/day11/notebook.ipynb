{
 "cells": [
  {
   "cell_type": "code",
   "execution_count": 43,
   "metadata": {},
   "outputs": [],
   "source": [
    "import math\n",
    "f = open(\"example.txt\", \"r\")\n",
    "lines = f.readlines()\n",
    "f.close()"
   ]
  },
  {
   "cell_type": "code",
   "execution_count": 44,
   "metadata": {},
   "outputs": [],
   "source": [
    "class Monkey:\n",
    "    def __init__(self, items: list, operation: str, test: int, testTrue: int, testFalse: int):\n",
    "        self.items = items\n",
    "        self.operationString = operation\n",
    "        self.test = test\n",
    "        self.testTrue = testTrue\n",
    "        self.testFalse = testFalse\n",
    "\n",
    "        self.inspections = 0\n",
    "\n",
    "    def operation(self, old):\n",
    "        return eval(self.operationString)\n",
    "\n",
    "    def testItem(self, item: int): # returns the monkey to whom the item should be thrown\n",
    "        if item % self.test == 0:\n",
    "            return self.testTrue\n",
    "        else: return self.testFalse\n",
    "\n",
    "    def updateInspections(self):\n",
    "        self.inspections += len(self.items)\n",
    "\n",
    "monkeys = [None for i in range(int((len(lines) + 1) / 7))]"
   ]
  },
  {
   "cell_type": "code",
   "execution_count": 45,
   "metadata": {},
   "outputs": [],
   "source": [
    "for i in range(len(monkeys)):\n",
    "    # starting items\n",
    "    line = lines[1 + (i * 7)].rstrip()\n",
    "    items = [int(i) for i  in line.split(\": \")[1].split(\",\")]\n",
    "    # operation\n",
    "    line = lines[2 + (i * 7)].rstrip()\n",
    "    operation = line.split(\"= \")[1]\n",
    "    # test\n",
    "    line = lines[3 + (i * 7)].rstrip()\n",
    "    test = int(line.split()[-1])\n",
    "    # test true\n",
    "    line = lines[4 + (i * 7)].rstrip()\n",
    "    testTrue = int(line.split()[-1])\n",
    "    # test false\n",
    "    line = lines[5 + (i * 7)].rstrip()\n",
    "    testFalse = int(line.split()[-1])\n",
    "\n",
    "    monkeys[i] = Monkey(items, operation, test, testTrue, testFalse)"
   ]
  },
  {
   "cell_type": "code",
   "execution_count": 46,
   "metadata": {},
   "outputs": [],
   "source": [
    "for n in range(20):\n",
    "    for monkey in monkeys:\n",
    "        monkey.updateInspections()\n",
    "        for i in range(len(monkey.items)):\n",
    "            item = monkey.items.pop()\n",
    "            item = monkey.operation(item)\n",
    "            # item = math.floor(item/3)\n",
    "            monkeys[monkey.testItem(item)].items.append(item)"
   ]
  },
  {
   "cell_type": "code",
   "execution_count": 47,
   "metadata": {},
   "outputs": [
    {
     "name": "stdout",
     "output_type": "stream",
     "text": [
      "[99, 97, 8, 103]\n",
      "10197\n"
     ]
    }
   ],
   "source": [
    "inspections = [monkey.inspections for monkey in monkeys]\n",
    "print(inspections)\n",
    "\n",
    "a = max(inspections)\n",
    "inspections.remove(a)\n",
    "b = max(inspections)\n",
    "print(a*b)"
   ]
  }
 ],
 "metadata": {
  "kernelspec": {
   "display_name": "Python 3",
   "language": "python",
   "name": "python3"
  },
  "language_info": {
   "codemirror_mode": {
    "name": "ipython",
    "version": 3
   },
   "file_extension": ".py",
   "mimetype": "text/x-python",
   "name": "python",
   "nbconvert_exporter": "python",
   "pygments_lexer": "ipython3",
   "version": "3.10.4 (tags/v3.10.4:9d38120, Mar 23 2022, 23:13:41) [MSC v.1929 64 bit (AMD64)]"
  },
  "orig_nbformat": 4,
  "vscode": {
   "interpreter": {
    "hash": "200f4a5810850a7d1548608a7aa1ad0806081eb328ae73dc8b47718d745bc0ba"
   }
  }
 },
 "nbformat": 4,
 "nbformat_minor": 2
}
