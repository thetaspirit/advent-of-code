{
 "cells": [
  {
   "cell_type": "code",
   "execution_count": 9,
   "metadata": {},
   "outputs": [],
   "source": [
    "def toPrio(c):\n",
    "    if ord('a') <= ord(c) <= ord('z'): # if c is lowercase\n",
    "        return ord(c) - ord('a') + 1\n",
    "    elif ord('A') <= ord(c) <= ord('Z'): # if c is uppercase\n",
    "        return ord(c) - ord('A') + 27"
   ]
  },
  {
   "cell_type": "code",
   "execution_count": 10,
   "metadata": {},
   "outputs": [
    {
     "name": "stdout",
     "output_type": "stream",
     "text": [
      "['p', 'L', 'P', 'v', 't', 's']\n"
     ]
    }
   ],
   "source": [
    "f = open(\"example.txt\", \"r\")\n",
    "commonChars = [] # list of chars the two compartments have in common for each of the rucksacks\n",
    "\n",
    "for line in f:\n",
    "    string1 = line[0:len(line)//2]\n",
    "    string2 = line[len(line)//2:len(line)]\n",
    "\n",
    "    for c in string1:\n",
    "        if c in string2:\n",
    "            commonChars.append(c)\n",
    "            break\n",
    "\n",
    "print(commonChars)"
   ]
  },
  {
   "cell_type": "code",
   "execution_count": 11,
   "metadata": {},
   "outputs": [
    {
     "name": "stdout",
     "output_type": "stream",
     "text": [
      "['vJrwpWtwJgWrhcsFMMfFFhFp', 'jqHRNqRjqzjGDLGLrsFMfFZSrLrFZsSL', 'PmmdzqPrVvPwwTWBwg', 'wMqvLMZHhHMvwLHjbvcjnnSBnvTQFn', 'ttgJtRGJQctTZtZT', 'CrZsJsPPZsGzwwsLwLmpwMDw']\n",
      "['r', 'Z']\n"
     ]
    }
   ],
   "source": [
    "f = open(\"example.txt\", \"r\")\n",
    "content = [line.rstrip() for line in f]\n",
    "print(content)\n",
    "\n",
    "intersections = [] # list of common chars between the three Elves for each set of three Elves\n",
    "\n",
    "for i in range(0, len(content), 3):\n",
    "    intersections.append(set(content[i]).intersection(content[i+1], content[i+2]).pop())\n",
    "\n",
    "print(intersections)"
   ]
  },
  {
   "cell_type": "code",
   "execution_count": 12,
   "metadata": {},
   "outputs": [
    {
     "name": "stdout",
     "output_type": "stream",
     "text": [
      "70\n"
     ]
    }
   ],
   "source": [
    "prioSum = 0\n",
    "for c in intersections:\n",
    "    prioSum += toPrio(c)\n",
    "\n",
    "print(prioSum)"
   ]
  }
 ],
 "metadata": {
  "kernelspec": {
   "display_name": "Python 3.10.4 64-bit",
   "language": "python",
   "name": "python3"
  },
  "language_info": {
   "codemirror_mode": {
    "name": "ipython",
    "version": 3
   },
   "file_extension": ".py",
   "mimetype": "text/x-python",
   "name": "python",
   "nbconvert_exporter": "python",
   "pygments_lexer": "ipython3",
   "version": "3.10.4"
  },
  "orig_nbformat": 4,
  "vscode": {
   "interpreter": {
    "hash": "200f4a5810850a7d1548608a7aa1ad0806081eb328ae73dc8b47718d745bc0ba"
   }
  }
 },
 "nbformat": 4,
 "nbformat_minor": 2
}
