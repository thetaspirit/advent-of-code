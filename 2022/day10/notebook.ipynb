{
 "cells": [
  {
   "cell_type": "code",
   "execution_count": 103,
   "metadata": {},
   "outputs": [],
   "source": [
    "f = open(\"input.txt\", \"r\")\n",
    "\n",
    "x = 1\n",
    "currentCycle = 1"
   ]
  },
  {
   "cell_type": "code",
   "execution_count": 104,
   "metadata": {},
   "outputs": [],
   "source": [
    "open(\"output.txt\", \"w\").close()\n",
    "\n",
    "def appendToFile(s):\n",
    "    w = open(\"output.txt\", \"a\")\n",
    "    w.write(s)\n",
    "    w.close()"
   ]
  },
  {
   "cell_type": "code",
   "execution_count": 105,
   "metadata": {},
   "outputs": [],
   "source": [
    "for line in f:\n",
    "    line = line.rstrip()\n",
    "    arg = line.split(\" \")[0]\n",
    "\n",
    "    match arg:\n",
    "        case \"noop\":\n",
    "            currentCycle += 1\n",
    "\n",
    "        case \"addx\":\n",
    "            currentCycle += 2\n",
    "            x += int(line.split(\" \")[1])\n",
    "    \n",
    "    appendToFile(str(currentCycle) + \" \" + str(x) + \"\\n\")"
   ]
  },
  {
   "cell_type": "code",
   "execution_count": 106,
   "metadata": {},
   "outputs": [],
   "source": [
    "f.close()\n",
    "f = open(\"output.txt\", \"r\")"
   ]
  },
  {
   "cell_type": "code",
   "execution_count": 107,
   "metadata": {},
   "outputs": [
    {
     "name": "stdout",
     "output_type": "stream",
     "text": [
      "16480\n"
     ]
    }
   ],
   "source": [
    "i = 0\n",
    "value = 1\n",
    "\n",
    "sum = 0\n",
    "\n",
    "line = f.readline().rstrip()\n",
    "while True:\n",
    "\n",
    "    if line == \"\":\n",
    "        break\n",
    "\n",
    "    cycle = int(line.split()[0])\n",
    "\n",
    "    if i == cycle:\n",
    "        value = int(line.split()[1])\n",
    "        phrase = (cycle, value)\n",
    "        i += 1\n",
    "        line = f.readline().rstrip()\n",
    "    \n",
    "    elif i < cycle:\n",
    "        phrase = (i, value)\n",
    "        i += 1\n",
    "\n",
    "    if phrase[0] % 40 == 20:\n",
    "        sum += phrase[0] * phrase[1]\n",
    "\n",
    "print(sum)"
   ]
  }
 ],
 "metadata": {
  "kernelspec": {
   "display_name": "Python 3",
   "language": "python",
   "name": "python3"
  },
  "language_info": {
   "codemirror_mode": {
    "name": "ipython",
    "version": 3
   },
   "file_extension": ".py",
   "mimetype": "text/x-python",
   "name": "python",
   "nbconvert_exporter": "python",
   "pygments_lexer": "ipython3",
   "version": "3.10.4"
  },
  "orig_nbformat": 4,
  "vscode": {
   "interpreter": {
    "hash": "200f4a5810850a7d1548608a7aa1ad0806081eb328ae73dc8b47718d745bc0ba"
   }
  }
 },
 "nbformat": 4,
 "nbformat_minor": 2
}
