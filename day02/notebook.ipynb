{
 "cells": [
  {
   "cell_type": "code",
   "execution_count": 35,
   "metadata": {},
   "outputs": [],
   "source": [
    "CHOICES = [\"A\", \"B\", \"C\", \"X\", \"Y\", \"Z\"]\n",
    "ROCK = 0\n",
    "PAPER = 1\n",
    "SCISSORS = 2\n",
    "\n",
    "beats = {ROCK: PAPER, PAPER: SCISSORS, SCISSORS: ROCK}\n",
    "# <value> beats <key>\n",
    "loses = {ROCK: SCISSORS, PAPER: ROCK, SCISSORS: PAPER}\n",
    "# <value> loses to <key>"
   ]
  },
  {
   "cell_type": "code",
   "execution_count": 36,
   "metadata": {},
   "outputs": [],
   "source": [
    "def getScore(opponentChoice, yourChoice):\n",
    "    opponentChoice = CHOICES.index(opponentChoice) % 3\n",
    "    yourChoice = CHOICES.index(yourChoice) % 3\n",
    "\n",
    "    score = yourChoice + 1 # the number of points you get for chosing a certain shape to play\n",
    "    if opponentChoice == yourChoice:\n",
    "        return score + 3\n",
    "\n",
    "    elif yourChoice == beats[opponentChoice]:\n",
    "        return score + 6\n",
    "    else:\n",
    "        return score"
   ]
  },
  {
   "cell_type": "code",
   "execution_count": 37,
   "metadata": {},
   "outputs": [],
   "source": [
    "# X = lose = 0 points\n",
    "# Y = draw = 3 points\n",
    "# Z = win = 6 points\n",
    "\n",
    "def getNewScore(opponentChoice, yourCommand):\n",
    "    opponentChoice = CHOICES.index(opponentChoice) % 3\n",
    "    yourCommand = CHOICES.index(yourCommand) % 3\n",
    "\n",
    "    score = yourCommand * 3 # the number of points you get by being told to lose, draw, or win\n",
    "\n",
    "    if yourCommand == 0: # lose\n",
    "        return score + loses[opponentChoice] + 1\n",
    "\n",
    "    if yourCommand == 1: # draw\n",
    "        return score + opponentChoice + 1\n",
    "    \n",
    "    if yourCommand == 2: # win\n",
    "        return score + beats[opponentChoice] + 1"
   ]
  },
  {
   "cell_type": "code",
   "execution_count": 38,
   "metadata": {},
   "outputs": [
    {
     "name": "stdout",
     "output_type": "stream",
     "text": [
      "4\n",
      "1\n",
      "7\n"
     ]
    }
   ],
   "source": [
    "print(getNewScore(\"A\", \"Y\"))\n",
    "print(getNewScore(\"B\", \"X\"))\n",
    "print(getNewScore(\"C\", \"Z\"))"
   ]
  },
  {
   "cell_type": "code",
   "execution_count": 39,
   "metadata": {},
   "outputs": [
    {
     "name": "stdout",
     "output_type": "stream",
     "text": [
      "8\n",
      "1\n",
      "6\n"
     ]
    }
   ],
   "source": [
    "f = open(\"example.txt\", \"r\")\n",
    "for line in f:\n",
    "    print(getScore(line[0], line[2]))"
   ]
  }
 ],
 "metadata": {
  "kernelspec": {
   "display_name": "Python 3.10.6 64-bit",
   "language": "python",
   "name": "python3"
  },
  "language_info": {
   "codemirror_mode": {
    "name": "ipython",
    "version": 3
   },
   "file_extension": ".py",
   "mimetype": "text/x-python",
   "name": "python",
   "nbconvert_exporter": "python",
   "pygments_lexer": "ipython3",
   "version": "3.10.6"
  },
  "orig_nbformat": 4,
  "vscode": {
   "interpreter": {
    "hash": "916dbcbb3f70747c44a77c7bcd40155683ae19c65e1c03b4aa3499c5328201f1"
   }
  }
 },
 "nbformat": 4,
 "nbformat_minor": 2
}
